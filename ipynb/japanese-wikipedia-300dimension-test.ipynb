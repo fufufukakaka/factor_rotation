{
 "cells": [
  {
   "cell_type": "code",
   "execution_count": 1,
   "metadata": {
    "collapsed": false
   },
   "outputs": [
    {
     "ename": "ImportError",
     "evalue": "No module named 'factor_rotation'",
     "output_type": "error",
     "traceback": [
      "\u001b[0;31m-----------------------------------------------------------------\u001b[0m",
      "\u001b[0;31mImportError\u001b[0m                     Traceback (most recent call last)",
      "\u001b[0;32m<ipython-input-1-495b8d236d29>\u001b[0m in \u001b[0;36m<module>\u001b[0;34m()\u001b[0m\n\u001b[1;32m      3\u001b[0m \u001b[0;32mimport\u001b[0m \u001b[0mgensim\u001b[0m\u001b[0;34m\u001b[0m\u001b[0m\n\u001b[1;32m      4\u001b[0m \u001b[0;32mimport\u001b[0m \u001b[0mnumpy\u001b[0m \u001b[0;32mas\u001b[0m \u001b[0mnp\u001b[0m\u001b[0;34m\u001b[0m\u001b[0m\n\u001b[0;32m----> 5\u001b[0;31m \u001b[0;32mimport\u001b[0m \u001b[0mfactor_rotation\u001b[0m \u001b[0;32mas\u001b[0m \u001b[0mfr\u001b[0m\u001b[0;34m\u001b[0m\u001b[0m\n\u001b[0m\u001b[1;32m      6\u001b[0m \u001b[0;32mimport\u001b[0m \u001b[0mpandas\u001b[0m \u001b[0;32mas\u001b[0m \u001b[0mpd\u001b[0m\u001b[0;34m\u001b[0m\u001b[0m\n\u001b[1;32m      7\u001b[0m \u001b[0;34m\u001b[0m\u001b[0m\n",
      "\u001b[0;31mImportError\u001b[0m: No module named 'factor_rotation'"
     ]
    }
   ],
   "source": [
    "import sys\n",
    "sys.path.append(\".\")\n",
    "import gensim\n",
    "import numpy as np\n",
    "import factor_rotation as fr\n",
    "import pandas as pd\n",
    "\n",
    "def load_word2vec_model():\n",
    "    print('loading the model...')\n",
    "    model = gensim.models.KeyedVectors.load_word2vec_format(MODEL_FILE, binary=False)\n",
    "    print('pre-trained word2vec model loaded...')\n",
    "    return model\n",
    "\n",
    "\n",
    "def export_numpy_array(filename, np_array):\n",
    "    print('exporting the array (' + filename + ') ...')\n",
    "    np.save(SAVE_PATH + filename, np_array)\n",
    "\n",
    "\n",
    "def unrotated_reps(model):\n",
    "    sampled_reps = []; sampled_words = []\n",
    "    for word in list(model.vocab.keys()):\n",
    "        if type(word) is not str:\n",
    "            word = str(word, encoding='utf-8')\n",
    "        sampled_reps.append(model[word])\n",
    "        sampled_words.append(word)\n",
    "    sampled_reps = np.array(sampled_reps)\n",
    "    sampled_words = np.array(sampled_words)\n",
    "    print('converting word2vec embeddings to np_array')\n",
    "    return sampled_reps, sampled_words\n",
    "\n",
    "\n",
    "def varimax(unrotated):\n",
    "    print('starting varimax rotation...')\n",
    "    return fr.rotate_factors(unrotated, 'varimax_CF')\n",
    "\n",
    "\n",
    "def parsimony(unrotated):\n",
    "    print('starting factor parsimony rotation...')\n",
    "    return fr.rotate_factors(unrotated, 'parsimony')\n",
    "\n",
    "\n",
    "def parsimax(unrotated):\n",
    "    print('starting factor parsimax rotation...')\n",
    "    return fr.rotate_factors(unrotated, 'parsimax')\n",
    "\n",
    "\n",
    "def quartimax(unrotated):\n",
    "    print('starting factor quartimax rotation...')\n",
    "    return fr.rotate_factors(unrotated, 'quartimax_CF')\n",
    "\n",
    "\n",
    "def main():\n",
    "    model = load_word2vec_model()\n",
    "    unrotated, word_list = unrotated_reps(model)\n",
    "    \n",
    "    word_list = pd.DataFrame(word_list)\n",
    "    word_list.to_csv(\"word_list.csv\")\n",
    "\n",
    "    del model\n",
    "    del word_list\n",
    "\n",
    "    print('rescaling...')\n",
    "    scale = .001\n",
    "    unrotated *= scale\n",
    "    print(np.max(unrotated))\n",
    "    print(np.min(unrotated))\n",
    "#     print(\"normalize\")\n",
    "    \n",
    "\n",
    "    print('start rotating...')\n",
    "    mat_L, mat_T, *_ = method_dic[method_name](unrotated)\n",
    "    export_numpy_array('{}_axis.npy'.format(method_name), mat_T)\n",
    "    export_numpy_array('{}_rotated.npy'.format(method_name), mat_L)"
   ]
  },
  {
   "cell_type": "code",
   "execution_count": null,
   "metadata": {
    "collapsed": true
   },
   "outputs": [],
   "source": [
    "MODEL_FILE = '../japanese-wikipedia-300dimension/word2vec.bin'\n",
    "SAVE_PATH = '../japanese-wikipedia-300dimension/'\n",
    "method_dic = {\"varimax\": varimax, \"quartimax\": quartimax, \"parsimony\": parsimony, \"parsimax\":parsimax}\n",
    "method_name = \"parsimax\"\n",
    "\n",
    "main()"
   ]
  }
 ],
 "metadata": {
  "kernelspec": {
   "display_name": "Python 3",
   "language": "python",
   "name": "python3"
  },
  "language_info": {
   "codemirror_mode": {
    "name": "ipython",
    "version": 3
   },
   "file_extension": ".py",
   "mimetype": "text/x-python",
   "name": "python",
   "nbconvert_exporter": "python",
   "pygments_lexer": "ipython3",
   "version": "3.5.1"
  }
 },
 "nbformat": 4,
 "nbformat_minor": 2
}
